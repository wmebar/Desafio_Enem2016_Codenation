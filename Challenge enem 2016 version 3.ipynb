{
 "cells": [
  {
   "cell_type": "markdown",
   "metadata": {},
   "source": [
    "<h1>Descubra as melhores notas de matemática do ENEM 2016</h1>\n",
    "<h2>Tópicos</h2>\n",
    "\n",
    "<p>Neste desafio você aprenderá:</p>\n",
    "\n",
    "<ul>\n",
    "<li>Lógica</li>\n",
    "<li>Análise de dados</li>\n",
    "<li>Estatística</li>\n",
    "<li>Regression</li>\n",
    "</ul>\n",
    "\n",
    "<h2>Detalhes</h2>\n",
    "\n",
    "<p>O contexto do desafio gira em torno dos resultados do ENEM 2016 (disponíveis no arquivo train.csv). Este arquivo, e apenas ele, deve ser utilizado para todos os desafios. Qualquer dúvida a respeito das colunas, consulte o <a href=\"https://s3-us-west-1.amazonaws.com/acceleration-assets-highway/data-science/dicionario-de-dados.zip\">Dicionário dos Microdados do Enem 2016</a>.</p>\n",
    "\n",
    "<p>Muitas universidades brasileiras utilizam o ENEM para selecionar seus futuros alunos e alunas. Isto é feito com uma média ponderada das notas das provas de matemática, ciências da natureza, linguagens e códigos, ciências humanas e redação, com os pesos abaixo:</p>\n",
    "\n",
    "<ul>\n",
    "<li>matemática: 3</li>\n",
    "<li>ciências da natureza: 2</li>\n",
    "<li>linguagens e códigos: 1.5</li>\n",
    "<li>ciências humanas: 1</li>\n",
    "<li>redação: 3</li>\n",
    "</ul>\n",
    "\n",
    "<p>No arquivo test.csv crie um modelo para prever nota da prova de matemática (coluna <strong>NU_NOTA_MT</strong>) de quem participou do ENEM 2016.</p>\n",
    "\n",
    "<p>Salve sua resposta em um arquivo chamado answer.csv com duas colunas: <strong>NU_INSCRICAO</strong> e <strong>NU_NOTA_MT</strong>.</p>\n",
    "\n",
    "<p>Faça o upload do arquivo answer.csv usando o botão “Submeter resposta”.</p>\n",
    "\n",
    "<h2>Observações</h2>\n",
    "\n",
    "<p>O objetivo do desafio é avaliar a sua capacidade de resolver problemas, então ele pode ser resolvido em qualquer linguagem de programação ou ferramenta que você tenha facilidade. Mas recomendamos o uso de linguagens com maior ferramental de matemática e estatística como Python, R, Scala ou Julia.</p>"
   ]
  },
  {
   "cell_type": "code",
   "execution_count": 1,
   "metadata": {},
   "outputs": [],
   "source": [
    "# Importando pacotes\n",
    "import numpy as np\n",
    "import matplotlib.pyplot as plt\n",
    "import pandas as pd\n",
    "import matplotlib\n",
    "import seaborn as sns"
   ]
  },
  {
   "cell_type": "code",
   "execution_count": 2,
   "metadata": {},
   "outputs": [],
   "source": [
    "# Carregando dataset já separando as colunas de interesse\n",
    "dataset = pd.read_csv('train.csv',\n",
    "                    usecols=['NU_INSCRICAO', 'NU_NOTA_CN',\n",
    "                             'NU_NOTA_CH','NU_NOTA_LC','NU_NOTA_REDACAO','NU_NOTA_MT'])"
   ]
  },
  {
   "cell_type": "code",
   "execution_count": 3,
   "metadata": {},
   "outputs": [
    {
     "data": {
      "text/html": [
       "<div>\n",
       "<style scoped>\n",
       "    .dataframe tbody tr th:only-of-type {\n",
       "        vertical-align: middle;\n",
       "    }\n",
       "\n",
       "    .dataframe tbody tr th {\n",
       "        vertical-align: top;\n",
       "    }\n",
       "\n",
       "    .dataframe thead th {\n",
       "        text-align: right;\n",
       "    }\n",
       "</style>\n",
       "<table border=\"1\" class=\"dataframe\">\n",
       "  <thead>\n",
       "    <tr style=\"text-align: right;\">\n",
       "      <th></th>\n",
       "      <th>NU_INSCRICAO</th>\n",
       "      <th>NU_NOTA_CN</th>\n",
       "      <th>NU_NOTA_CH</th>\n",
       "      <th>NU_NOTA_LC</th>\n",
       "      <th>NU_NOTA_MT</th>\n",
       "      <th>NU_NOTA_REDACAO</th>\n",
       "    </tr>\n",
       "  </thead>\n",
       "  <tbody>\n",
       "    <tr>\n",
       "      <th>0</th>\n",
       "      <td>ed50e8aaa58e7a806c337585efee9ca41f1eb1ad</td>\n",
       "      <td>436.3</td>\n",
       "      <td>495.4</td>\n",
       "      <td>581.2</td>\n",
       "      <td>399.4</td>\n",
       "      <td>520.0</td>\n",
       "    </tr>\n",
       "    <tr>\n",
       "      <th>1</th>\n",
       "      <td>2c3acac4b33ec2b195d77e7c04a2d75727fad723</td>\n",
       "      <td>474.5</td>\n",
       "      <td>544.1</td>\n",
       "      <td>599.0</td>\n",
       "      <td>459.8</td>\n",
       "      <td>580.0</td>\n",
       "    </tr>\n",
       "    <tr>\n",
       "      <th>2</th>\n",
       "      <td>f4545f8ccb9ff5c8aad7d32951b3f251a26e6568</td>\n",
       "      <td>NaN</td>\n",
       "      <td>NaN</td>\n",
       "      <td>NaN</td>\n",
       "      <td>NaN</td>\n",
       "      <td>NaN</td>\n",
       "    </tr>\n",
       "    <tr>\n",
       "      <th>3</th>\n",
       "      <td>3d6ec248fef899c414e77f82d5c6d2bffbeaf7fe</td>\n",
       "      <td>NaN</td>\n",
       "      <td>NaN</td>\n",
       "      <td>NaN</td>\n",
       "      <td>NaN</td>\n",
       "      <td>NaN</td>\n",
       "    </tr>\n",
       "    <tr>\n",
       "      <th>4</th>\n",
       "      <td>bf896ac8d3ecadd6dba1dfbf50110afcbf5d3268</td>\n",
       "      <td>NaN</td>\n",
       "      <td>NaN</td>\n",
       "      <td>NaN</td>\n",
       "      <td>NaN</td>\n",
       "      <td>NaN</td>\n",
       "    </tr>\n",
       "  </tbody>\n",
       "</table>\n",
       "</div>"
      ],
      "text/plain": [
       "                               NU_INSCRICAO  NU_NOTA_CN  NU_NOTA_CH  \\\n",
       "0  ed50e8aaa58e7a806c337585efee9ca41f1eb1ad       436.3       495.4   \n",
       "1  2c3acac4b33ec2b195d77e7c04a2d75727fad723       474.5       544.1   \n",
       "2  f4545f8ccb9ff5c8aad7d32951b3f251a26e6568         NaN         NaN   \n",
       "3  3d6ec248fef899c414e77f82d5c6d2bffbeaf7fe         NaN         NaN   \n",
       "4  bf896ac8d3ecadd6dba1dfbf50110afcbf5d3268         NaN         NaN   \n",
       "\n",
       "   NU_NOTA_LC  NU_NOTA_MT  NU_NOTA_REDACAO  \n",
       "0       581.2       399.4            520.0  \n",
       "1       599.0       459.8            580.0  \n",
       "2         NaN         NaN              NaN  \n",
       "3         NaN         NaN              NaN  \n",
       "4         NaN         NaN              NaN  "
      ]
     },
     "execution_count": 3,
     "metadata": {},
     "output_type": "execute_result"
    }
   ],
   "source": [
    "# Mostrando as 5 primeiras linhas do dataset\n",
    "dataset.head()"
   ]
  },
  {
   "cell_type": "code",
   "execution_count": 4,
   "metadata": {},
   "outputs": [
    {
     "name": "stdout",
     "output_type": "stream",
     "text": [
      "<class 'pandas.core.frame.DataFrame'>\n",
      "RangeIndex: 13730 entries, 0 to 13729\n",
      "Data columns (total 6 columns):\n",
      "NU_INSCRICAO       13730 non-null object\n",
      "NU_NOTA_CN         10341 non-null float64\n",
      "NU_NOTA_CH         10341 non-null float64\n",
      "NU_NOTA_LC         10133 non-null float64\n",
      "NU_NOTA_MT         10133 non-null float64\n",
      "NU_NOTA_REDACAO    10133 non-null float64\n",
      "dtypes: float64(5), object(1)\n",
      "memory usage: 643.7+ KB\n"
     ]
    }
   ],
   "source": [
    "# Mostrando informações do dataset onde é possivel verificar uma que são 13720 registros sendo que existem\n",
    "# mais de 3000 dados faltantes depedendo da coluna\n",
    "dataset.info()"
   ]
  },
  {
   "cell_type": "code",
   "execution_count": 5,
   "metadata": {},
   "outputs": [
    {
     "name": "stdout",
     "output_type": "stream",
     "text": [
      "<class 'pandas.core.frame.DataFrame'>\n",
      "RangeIndex: 13730 entries, 0 to 13729\n",
      "Data columns (total 6 columns):\n",
      "NU_INSCRICAO       13730 non-null object\n",
      "NU_NOTA_CN         13730 non-null float64\n",
      "NU_NOTA_CH         13730 non-null float64\n",
      "NU_NOTA_LC         13730 non-null float64\n",
      "NU_NOTA_MT         13730 non-null float64\n",
      "NU_NOTA_REDACAO    13730 non-null float64\n",
      "dtypes: float64(5), object(1)\n",
      "memory usage: 643.7+ KB\n"
     ]
    }
   ],
   "source": [
    "# Subistituindo notas Nan por 0 provavelmente candidatos faltantes\n",
    "'''Adotei está estratégia por jugar que tanto os candidatos ausentes ou mesmo os pegos cometendo algum\n",
    "tipo de fraude ou simplesmente entreguem o gabarito em branco as notas atribuídas devam ser zero'''\n",
    "dataset = dataset.fillna(0)\n",
    "dataset.info()"
   ]
  },
  {
   "cell_type": "code",
   "execution_count": 6,
   "metadata": {},
   "outputs": [
    {
     "data": {
      "text/html": [
       "<div>\n",
       "<style scoped>\n",
       "    .dataframe tbody tr th:only-of-type {\n",
       "        vertical-align: middle;\n",
       "    }\n",
       "\n",
       "    .dataframe tbody tr th {\n",
       "        vertical-align: top;\n",
       "    }\n",
       "\n",
       "    .dataframe thead th {\n",
       "        text-align: right;\n",
       "    }\n",
       "</style>\n",
       "<table border=\"1\" class=\"dataframe\">\n",
       "  <thead>\n",
       "    <tr style=\"text-align: right;\">\n",
       "      <th></th>\n",
       "      <th>NU_NOTA_CN</th>\n",
       "      <th>NU_NOTA_CH</th>\n",
       "      <th>NU_NOTA_LC</th>\n",
       "      <th>NU_NOTA_MT</th>\n",
       "      <th>NU_NOTA_REDACAO</th>\n",
       "    </tr>\n",
       "  </thead>\n",
       "  <tbody>\n",
       "    <tr>\n",
       "      <th>count</th>\n",
       "      <td>13730.000000</td>\n",
       "      <td>13730.000000</td>\n",
       "      <td>13730.000000</td>\n",
       "      <td>13730.000000</td>\n",
       "      <td>13730.000000</td>\n",
       "    </tr>\n",
       "    <tr>\n",
       "      <th>mean</th>\n",
       "      <td>356.621515</td>\n",
       "      <td>398.923911</td>\n",
       "      <td>381.166737</td>\n",
       "      <td>356.092607</td>\n",
       "      <td>390.447633</td>\n",
       "    </tr>\n",
       "    <tr>\n",
       "      <th>std</th>\n",
       "      <td>213.282315</td>\n",
       "      <td>237.174594</td>\n",
       "      <td>234.648409</td>\n",
       "      <td>228.844193</td>\n",
       "      <td>267.749316</td>\n",
       "    </tr>\n",
       "    <tr>\n",
       "      <th>min</th>\n",
       "      <td>0.000000</td>\n",
       "      <td>0.000000</td>\n",
       "      <td>0.000000</td>\n",
       "      <td>0.000000</td>\n",
       "      <td>0.000000</td>\n",
       "    </tr>\n",
       "    <tr>\n",
       "      <th>25%</th>\n",
       "      <td>365.625000</td>\n",
       "      <td>345.900000</td>\n",
       "      <td>0.000000</td>\n",
       "      <td>0.000000</td>\n",
       "      <td>0.000000</td>\n",
       "    </tr>\n",
       "    <tr>\n",
       "      <th>50%</th>\n",
       "      <td>433.100000</td>\n",
       "      <td>499.600000</td>\n",
       "      <td>486.000000</td>\n",
       "      <td>422.500000</td>\n",
       "      <td>480.000000</td>\n",
       "    </tr>\n",
       "    <tr>\n",
       "      <th>75%</th>\n",
       "      <td>493.200000</td>\n",
       "      <td>564.400000</td>\n",
       "      <td>548.300000</td>\n",
       "      <td>504.400000</td>\n",
       "      <td>580.000000</td>\n",
       "    </tr>\n",
       "    <tr>\n",
       "      <th>max</th>\n",
       "      <td>806.400000</td>\n",
       "      <td>807.000000</td>\n",
       "      <td>763.600000</td>\n",
       "      <td>952.000000</td>\n",
       "      <td>1000.000000</td>\n",
       "    </tr>\n",
       "  </tbody>\n",
       "</table>\n",
       "</div>"
      ],
      "text/plain": [
       "         NU_NOTA_CN    NU_NOTA_CH    NU_NOTA_LC    NU_NOTA_MT  NU_NOTA_REDACAO\n",
       "count  13730.000000  13730.000000  13730.000000  13730.000000     13730.000000\n",
       "mean     356.621515    398.923911    381.166737    356.092607       390.447633\n",
       "std      213.282315    237.174594    234.648409    228.844193       267.749316\n",
       "min        0.000000      0.000000      0.000000      0.000000         0.000000\n",
       "25%      365.625000    345.900000      0.000000      0.000000         0.000000\n",
       "50%      433.100000    499.600000    486.000000    422.500000       480.000000\n",
       "75%      493.200000    564.400000    548.300000    504.400000       580.000000\n",
       "max      806.400000    807.000000    763.600000    952.000000      1000.000000"
      ]
     },
     "execution_count": 6,
     "metadata": {},
     "output_type": "execute_result"
    }
   ],
   "source": [
    "# Verificando algumas métricas estáticas dos dados\n",
    "dataset.describe()"
   ]
  },
  {
   "cell_type": "code",
   "execution_count": 7,
   "metadata": {},
   "outputs": [
    {
     "data": {
      "image/png": "[encoded data removed]",
      "text/plain": [
       "<Figure size 432x288 with 1 Axes>"
      ]
     },
     "metadata": {
      "needs_background": "light"
     },
     "output_type": "display_data"
    }
   ],
   "source": [
    "# Histogramas das notas\n",
    "''' Pelo gráfico de freqências podemos verificar a maior frequência das notas se encontra entre 400 e\n",
    "600, podemos notar também um alto número de  notas zeradas.\n",
    "Curiosamente temos poucas notas máximas 1000 e somente em redação sabidamente a única que poderá ter \n",
    "nota atribuida máxima, todas as outras notas são atribuidas de acordo com cálculos estatísticos.'''\n",
    "dataset.plot.hist(alpha=0.7, stacked=True)\n",
    "plt.show()"
   ]
  },
  {
   "cell_type": "code",
   "execution_count": 8,
   "metadata": {},
   "outputs": [
    {
     "data": {
      "text/html": [
       "<div>\n",
       "<style scoped>\n",
       "    .dataframe tbody tr th:only-of-type {\n",
       "        vertical-align: middle;\n",
       "    }\n",
       "\n",
       "    .dataframe tbody tr th {\n",
       "        vertical-align: top;\n",
       "    }\n",
       "\n",
       "    .dataframe thead th {\n",
       "        text-align: right;\n",
       "    }\n",
       "</style>\n",
       "<table border=\"1\" class=\"dataframe\">\n",
       "  <thead>\n",
       "    <tr style=\"text-align: right;\">\n",
       "      <th></th>\n",
       "      <th>NU_NOTA_CN</th>\n",
       "      <th>NU_NOTA_CH</th>\n",
       "      <th>NU_NOTA_LC</th>\n",
       "      <th>NU_NOTA_MT</th>\n",
       "      <th>NU_NOTA_REDACAO</th>\n",
       "    </tr>\n",
       "  </thead>\n",
       "  <tbody>\n",
       "    <tr>\n",
       "      <th>NU_NOTA_CN</th>\n",
       "      <td>1.000000</td>\n",
       "      <td>0.969323</td>\n",
       "      <td>0.920917</td>\n",
       "      <td>0.907039</td>\n",
       "      <td>0.857810</td>\n",
       "    </tr>\n",
       "    <tr>\n",
       "      <th>NU_NOTA_CH</th>\n",
       "      <td>0.969323</td>\n",
       "      <td>1.000000</td>\n",
       "      <td>0.934704</td>\n",
       "      <td>0.903608</td>\n",
       "      <td>0.871199</td>\n",
       "    </tr>\n",
       "    <tr>\n",
       "      <th>NU_NOTA_LC</th>\n",
       "      <td>0.920917</td>\n",
       "      <td>0.934704</td>\n",
       "      <td>1.000000</td>\n",
       "      <td>0.943954</td>\n",
       "      <td>0.904795</td>\n",
       "    </tr>\n",
       "    <tr>\n",
       "      <th>NU_NOTA_MT</th>\n",
       "      <td>0.907039</td>\n",
       "      <td>0.903608</td>\n",
       "      <td>0.943954</td>\n",
       "      <td>1.000000</td>\n",
       "      <td>0.875929</td>\n",
       "    </tr>\n",
       "    <tr>\n",
       "      <th>NU_NOTA_REDACAO</th>\n",
       "      <td>0.857810</td>\n",
       "      <td>0.871199</td>\n",
       "      <td>0.904795</td>\n",
       "      <td>0.875929</td>\n",
       "      <td>1.000000</td>\n",
       "    </tr>\n",
       "  </tbody>\n",
       "</table>\n",
       "</div>"
      ],
      "text/plain": [
       "                 NU_NOTA_CN  NU_NOTA_CH  NU_NOTA_LC  NU_NOTA_MT  \\\n",
       "NU_NOTA_CN         1.000000    0.969323    0.920917    0.907039   \n",
       "NU_NOTA_CH         0.969323    1.000000    0.934704    0.903608   \n",
       "NU_NOTA_LC         0.920917    0.934704    1.000000    0.943954   \n",
       "NU_NOTA_MT         0.907039    0.903608    0.943954    1.000000   \n",
       "NU_NOTA_REDACAO    0.857810    0.871199    0.904795    0.875929   \n",
       "\n",
       "                 NU_NOTA_REDACAO  \n",
       "NU_NOTA_CN              0.857810  \n",
       "NU_NOTA_CH              0.871199  \n",
       "NU_NOTA_LC              0.904795  \n",
       "NU_NOTA_MT              0.875929  \n",
       "NU_NOTA_REDACAO         1.000000  "
      ]
     },
     "execution_count": 8,
     "metadata": {},
     "output_type": "execute_result"
    }
   ],
   "source": [
    "# Verificando a correlação entre as diversas features incluindo a variável resposta\n",
    "dataset.corr()"
   ]
  },
  {
   "cell_type": "code",
   "execution_count": 9,
   "metadata": {},
   "outputs": [
    {
     "data": {
      "image/png": "[encoded data removed]",
      "text/plain": [
       "<Figure size 792x576 with 2 Axes>"
      ]
     },
     "metadata": {
      "needs_background": "light"
     },
     "output_type": "display_data"
    }
   ],
   "source": [
    "corr = dataset.corr()\n",
    "ax = plt.subplots(figsize=(11, 8))\n",
    "sns.heatmap(corr,  annot=True, annot_kws={\"size\": 10})\n",
    "plt.show()"
   ]
  },
  {
   "cell_type": "code",
   "execution_count": 10,
   "metadata": {},
   "outputs": [
    {
     "data": {
      "image/png": "[encoded data removed]",
      "text/plain": [
       "<Figure size 1152x360 with 4 Axes>"
      ]
     },
     "metadata": {
      "needs_background": "light"
     },
     "output_type": "display_data"
    }
   ],
   "source": [
    "# Plots de cada feature x a váriavel de interesse no caso a nota de matemática\n",
    "fig, axs = plt.subplots(1, 4, sharey=True)\n",
    "dataset.plot(kind='scatter', x='NU_NOTA_CN', y='NU_NOTA_MT', ax= axs[0], figsize=(16, 5))\n",
    "dataset.plot(kind='scatter', x='NU_NOTA_CH', y='NU_NOTA_MT', ax= axs[1])\n",
    "dataset.plot(kind='scatter', x='NU_NOTA_LC', y='NU_NOTA_MT', ax= axs[2])\n",
    "dataset.plot(kind='scatter', x='NU_NOTA_REDACAO', y='NU_NOTA_MT', ax= axs[3])\n",
    "plt.show()"
   ]
  },
  {
   "cell_type": "code",
   "execution_count": 11,
   "metadata": {},
   "outputs": [
    {
     "data": {
      "image/png": "[encoded data removed]",
      "text/plain": [
       "<Figure size 432x288 with 1 Axes>"
      ]
     },
     "metadata": {
      "needs_background": "light"
     },
     "output_type": "display_data"
    }
   ],
   "source": [
    "ax1 = dataset.plot(kind='scatter', x='NU_NOTA_CN', y='NU_NOTA_MT', color='blue',label='Ciências')\n",
    "dataset.plot(kind='scatter', x='NU_NOTA_CH', y='NU_NOTA_MT', color='red',ax=ax1,label='Humanas')\n",
    "dataset.plot(kind='scatter', x='NU_NOTA_LC', y='NU_NOTA_MT', color='green',ax=ax1,label='Linguagens e códigos')\n",
    "dataset.plot(kind='scatter', x='NU_NOTA_REDACAO', y='NU_NOTA_MT', color='yellow',ax=ax1,label='Redação')\n",
    "plt.xlabel('Notas')\n",
    "plt.ylabel('Nota mat')\n",
    "plt.legend()\n",
    "plt.show()"
   ]
  },
  {
   "cell_type": "code",
   "execution_count": 12,
   "metadata": {},
   "outputs": [
    {
     "data": {
      "text/plain": [
       "array([[436.3, 495.4, 581.2, 520. ],\n",
       "       [474.5, 544.1, 599. , 580. ],\n",
       "       [  0. ,   0. ,   0. ,   0. ],\n",
       "       [  0. ,   0. ,   0. ,   0. ],\n",
       "       [  0. ,   0. ,   0. ,   0. ]])"
      ]
     },
     "execution_count": 12,
     "metadata": {},
     "output_type": "execute_result"
    }
   ],
   "source": [
    "# extraindo as matriz X\n",
    "X = dataset.loc[:,['NU_NOTA_CN','NU_NOTA_CH','NU_NOTA_LC','NU_NOTA_REDACAO'] ].values\n",
    "X[:5,:]"
   ]
  },
  {
   "cell_type": "code",
   "execution_count": 13,
   "metadata": {},
   "outputs": [
    {
     "data": {
      "text/plain": [
       "array([[399.4],\n",
       "       [459.8],\n",
       "       [  0. ],\n",
       "       [  0. ],\n",
       "       [  0. ]])"
      ]
     },
     "execution_count": 13,
     "metadata": {},
     "output_type": "execute_result"
    }
   ],
   "source": [
    "# extraindo as matriz y\n",
    "y = dataset.loc[:, ['NU_NOTA_MT']].values\n",
    "y[:5]"
   ]
  },
  {
   "cell_type": "code",
   "execution_count": 14,
   "metadata": {},
   "outputs": [],
   "source": [
    "# divisão em treinamento e teste no caso aqui separei 20% dos dados dos treino para ser usado como teste\n",
    "from sklearn.model_selection import train_test_split\n",
    "X_train, X_test, y_train, y_test = train_test_split(X,\n",
    "                                                    y,\n",
    "                                                    test_size = 0.2,\n",
    "                                                    random_state = 0)"
   ]
  },
  {
   "cell_type": "code",
   "execution_count": 15,
   "metadata": {},
   "outputs": [
    {
     "name": "stdout",
     "output_type": "stream",
     "text": [
      "[[-1.67130354 -1.6809891  -1.62297745 -1.45535622]\n",
      " [ 1.43450718  1.1364538   1.02249348  0.48507072]\n",
      " [ 0.32632838  0.29653368  0.60929855  0.48507072]\n",
      " [ 0.55350269  0.26406688  0.52103091  0.63433433]\n",
      " [ 0.89144794  0.77468097  0.87921846  0.48507072]\n",
      " [ 0.22776102  0.62499642  0.77005654  0.41043892]\n",
      " [ 0.38077512  0.03806428 -0.05761256 -0.18661552]\n",
      " [ 0.75861668  0.91466766  1.1440214  -0.18661552]\n",
      " [ 0.59809269  0.55964118  0.74020758  0.33580711]\n",
      " [-1.67130354 -1.6809891  -1.62297745 -1.45535622]]\n"
     ]
    }
   ],
   "source": [
    "# inserindo a coluna 1s na matriz X para computar o beta_0 intercept\n",
    "from statsmodels.tools import add_constant\n",
    "# normalizando todos os dados\n",
    "from sklearn.preprocessing import StandardScaler\n",
    "sc_X = StandardScaler()\n",
    "X_train[:,:] = sc_X.fit_transform(X_train[:,:])\n",
    "X_test[:,:] = sc_X.transform(X_test[:,:])\n",
    "print(X_train[:10,:])"
   ]
  },
  {
   "cell_type": "code",
   "execution_count": 16,
   "metadata": {},
   "outputs": [],
   "source": [
    "# import do modelo de regressão no caso regressâo linear\n",
    "from sklearn.linear_model import LinearRegression"
   ]
  },
  {
   "cell_type": "code",
   "execution_count": 17,
   "metadata": {},
   "outputs": [
    {
     "data": {
      "text/plain": [
       "LinearRegression(copy_X=True, fit_intercept=True, n_jobs=None, normalize=True)"
      ]
     },
     "execution_count": 17,
     "metadata": {},
     "output_type": "execute_result"
    }
   ],
   "source": [
    "# regressor\n",
    "regressor = LinearRegression(normalize=True)\n",
    "regressor.fit(X_train,y_train)"
   ]
  },
  {
   "cell_type": "code",
   "execution_count": 18,
   "metadata": {},
   "outputs": [
    {
     "data": {
      "text/plain": [
       "array([[ -3.        ,   0.        ,  -2.92786148],\n",
       "       [580.        , 663.        , -83.40495922],\n",
       "       [427.        , 467.        , -40.10352422],\n",
       "       ...,\n",
       "       [438.        , 403.        ,  34.65980049],\n",
       "       [ -3.        ,   0.        ,  -2.92786148],\n",
       "       [466.        , 345.        , 121.58135561]])"
      ]
     },
     "execution_count": 18,
     "metadata": {},
     "output_type": "execute_result"
    }
   ],
   "source": [
    "#predição\n",
    "y_pred = regressor.predict(X_test)\n",
    "np.concatenate((np.round(y_pred), np.round(y_test),y_pred-y_test),axis=1)"
   ]
  },
  {
   "cell_type": "code",
   "execution_count": 19,
   "metadata": {},
   "outputs": [
    {
     "data": {
      "text/plain": [
       "array([[ -2.92786148],\n",
       "       [579.59504078],\n",
       "       [426.79647578],\n",
       "       [437.91649768],\n",
       "       [496.89679644],\n",
       "       [646.13927341],\n",
       "       [412.01117704],\n",
       "       [535.10601069],\n",
       "       [455.63511445],\n",
       "       [411.58325048]])"
      ]
     },
     "execution_count": 19,
     "metadata": {},
     "output_type": "execute_result"
    }
   ],
   "source": [
    "y_pred[:10]"
   ]
  },
  {
   "cell_type": "code",
   "execution_count": 20,
   "metadata": {},
   "outputs": [
    {
     "data": {
      "text/plain": [
       "0.9025184207872167"
      ]
     },
     "execution_count": 20,
     "metadata": {},
     "output_type": "execute_result"
    }
   ],
   "source": [
    "# Avaliando a qualidade do modelo \n",
    "'''O método score para a classe LinearRegression é o valor R^2 conhecido como fator de correlação \n",
    "sendo um valor entre 0 e 1'''\n",
    "regressor.score(X_test,y_test)"
   ]
  },
  {
   "cell_type": "code",
   "execution_count": 21,
   "metadata": {},
   "outputs": [
    {
     "data": {
      "text/plain": [
       "array([[ -3.],\n",
       "       [-83.],\n",
       "       [-40.],\n",
       "       ...,\n",
       "       [ 35.],\n",
       "       [ -3.],\n",
       "       [122.]])"
      ]
     },
     "execution_count": 21,
     "metadata": {},
     "output_type": "execute_result"
    }
   ],
   "source": [
    "# Análise de resíduos\n",
    "residuos = np.round((y_pred-y_test))\n",
    "residuos"
   ]
  },
  {
   "cell_type": "code",
   "execution_count": 22,
   "metadata": {},
   "outputs": [
    {
     "data": {
      "image/png": "[encoded data removed]",
      "text/plain": [
       "<Figure size 576x360 with 1 Axes>"
      ]
     },
     "metadata": {
      "needs_background": "light"
     },
     "output_type": "display_data"
    }
   ],
   "source": [
    "# Plotando histograma dos resíduos\n",
    "# Lembre-se de que os resíduos precisam ter distribuição normal com média 0.\n",
    "plt.rcParams[\"figure.figsize\"] = (8,5)\n",
    "plt.hist(residuos, color='orange', bins=15)\n",
    "plt.title('Histograma dos resíduos da regressão')\n",
    "plt.show()"
   ]
  },
  {
   "cell_type": "code",
   "execution_count": 23,
   "metadata": {},
   "outputs": [
    {
     "data": {
      "image/png": "[encoded data removed]",
      "text/plain": [
       "<Figure size 576x360 with 1 Axes>"
      ]
     },
     "metadata": {
      "needs_background": "light"
     },
     "output_type": "display_data"
    }
   ],
   "source": [
    "# plot do gráfico de dispersão (scatterplot) dos dos valores preditos (ŷ) e resíduos.\n",
    "# É preciso que os resíduos e a variável resposta sejam não correlacionados.\n",
    "plt.scatter(y=residuos, x=y_pred, color='green', s=50, alpha=.6)\n",
    "plt.hlines(y=0, xmin=-0, xmax=1000, color='orange')\n",
    "plt.ylabel('$\\epsilon = y - \\hat{y}$ - Resíduos')\n",
    "plt.xlabel('$\\hat{y}$ ou $E(y)$ - Predito')\n",
    "plt.show()"
   ]
  },
  {
   "cell_type": "code",
   "execution_count": 24,
   "metadata": {},
   "outputs": [
    {
     "data": {
      "text/html": [
       "<div>\n",
       "<style scoped>\n",
       "    .dataframe tbody tr th:only-of-type {\n",
       "        vertical-align: middle;\n",
       "    }\n",
       "\n",
       "    .dataframe tbody tr th {\n",
       "        vertical-align: top;\n",
       "    }\n",
       "\n",
       "    .dataframe thead th {\n",
       "        text-align: right;\n",
       "    }\n",
       "</style>\n",
       "<table border=\"1\" class=\"dataframe\">\n",
       "  <thead>\n",
       "    <tr style=\"text-align: right;\">\n",
       "      <th></th>\n",
       "      <th>NU_INSCRICAO</th>\n",
       "      <th>NU_NOTA_CN</th>\n",
       "      <th>NU_NOTA_CH</th>\n",
       "      <th>NU_NOTA_LC</th>\n",
       "      <th>NU_NOTA_REDACAO</th>\n",
       "    </tr>\n",
       "  </thead>\n",
       "  <tbody>\n",
       "    <tr>\n",
       "      <th>0</th>\n",
       "      <td>73ff9fcc02f0a99919906c942c2e1a1042cdcf98</td>\n",
       "      <td>464.8</td>\n",
       "      <td>443.5</td>\n",
       "      <td>431.8</td>\n",
       "      <td>420.0</td>\n",
       "    </tr>\n",
       "    <tr>\n",
       "      <th>1</th>\n",
       "      <td>71a95f9f1b91a82c65ad94abbdf9f54e6066f968</td>\n",
       "      <td>391.1</td>\n",
       "      <td>491.1</td>\n",
       "      <td>548.0</td>\n",
       "      <td>580.0</td>\n",
       "    </tr>\n",
       "    <tr>\n",
       "      <th>2</th>\n",
       "      <td>b38a03232f43b11c9d0788abaf060f7366053b6d</td>\n",
       "      <td>595.9</td>\n",
       "      <td>622.7</td>\n",
       "      <td>613.6</td>\n",
       "      <td>320.0</td>\n",
       "    </tr>\n",
       "    <tr>\n",
       "      <th>3</th>\n",
       "      <td>70b682d9a3636be23f6120fa9d6b164eb3c6002d</td>\n",
       "      <td>NaN</td>\n",
       "      <td>NaN</td>\n",
       "      <td>NaN</td>\n",
       "      <td>NaN</td>\n",
       "    </tr>\n",
       "    <tr>\n",
       "      <th>4</th>\n",
       "      <td>715494628a50142ce8cb17191cfe6d0f3cae0934</td>\n",
       "      <td>592.9</td>\n",
       "      <td>492.6</td>\n",
       "      <td>571.4</td>\n",
       "      <td>320.0</td>\n",
       "    </tr>\n",
       "  </tbody>\n",
       "</table>\n",
       "</div>"
      ],
      "text/plain": [
       "                               NU_INSCRICAO  NU_NOTA_CN  NU_NOTA_CH  \\\n",
       "0  73ff9fcc02f0a99919906c942c2e1a1042cdcf98       464.8       443.5   \n",
       "1  71a95f9f1b91a82c65ad94abbdf9f54e6066f968       391.1       491.1   \n",
       "2  b38a03232f43b11c9d0788abaf060f7366053b6d       595.9       622.7   \n",
       "3  70b682d9a3636be23f6120fa9d6b164eb3c6002d         NaN         NaN   \n",
       "4  715494628a50142ce8cb17191cfe6d0f3cae0934       592.9       492.6   \n",
       "\n",
       "   NU_NOTA_LC  NU_NOTA_REDACAO  \n",
       "0       431.8            420.0  \n",
       "1       548.0            580.0  \n",
       "2       613.6            320.0  \n",
       "3         NaN              NaN  \n",
       "4       571.4            320.0  "
      ]
     },
     "execution_count": 24,
     "metadata": {},
     "output_type": "execute_result"
    }
   ],
   "source": [
    "dataset_test = pd.read_csv('test.csv',\n",
    "                           usecols=['NU_INSCRICAO', 'NU_NOTA_CN', \n",
    "                                    'NU_NOTA_CH','NU_NOTA_LC','NU_NOTA_REDACAO'])\n",
    "dataset_test.head()"
   ]
  },
  {
   "cell_type": "code",
   "execution_count": 25,
   "metadata": {},
   "outputs": [
    {
     "data": {
      "text/plain": [
       "(4576, 1)"
      ]
     },
     "execution_count": 25,
     "metadata": {},
     "output_type": "execute_result"
    }
   ],
   "source": [
    "reg_number = dataset_test.loc[:,['NU_INSCRICAO'] ]\n",
    "reg_number.shape"
   ]
  },
  {
   "cell_type": "code",
   "execution_count": 26,
   "metadata": {},
   "outputs": [
    {
     "data": {
      "text/html": [
       "<div>\n",
       "<style scoped>\n",
       "    .dataframe tbody tr th:only-of-type {\n",
       "        vertical-align: middle;\n",
       "    }\n",
       "\n",
       "    .dataframe tbody tr th {\n",
       "        vertical-align: top;\n",
       "    }\n",
       "\n",
       "    .dataframe thead th {\n",
       "        text-align: right;\n",
       "    }\n",
       "</style>\n",
       "<table border=\"1\" class=\"dataframe\">\n",
       "  <thead>\n",
       "    <tr style=\"text-align: right;\">\n",
       "      <th></th>\n",
       "      <th>NU_INSCRICAO</th>\n",
       "      <th>NU_NOTA_MT</th>\n",
       "    </tr>\n",
       "  </thead>\n",
       "  <tbody>\n",
       "    <tr>\n",
       "      <th>0</th>\n",
       "      <td>73ff9fcc02f0a99919906c942c2e1a1042cdcf98</td>\n",
       "      <td>-2.927861</td>\n",
       "    </tr>\n",
       "    <tr>\n",
       "      <th>1</th>\n",
       "      <td>71a95f9f1b91a82c65ad94abbdf9f54e6066f968</td>\n",
       "      <td>579.595041</td>\n",
       "    </tr>\n",
       "    <tr>\n",
       "      <th>2</th>\n",
       "      <td>b38a03232f43b11c9d0788abaf060f7366053b6d</td>\n",
       "      <td>426.796476</td>\n",
       "    </tr>\n",
       "    <tr>\n",
       "      <th>3</th>\n",
       "      <td>70b682d9a3636be23f6120fa9d6b164eb3c6002d</td>\n",
       "      <td>437.916498</td>\n",
       "    </tr>\n",
       "    <tr>\n",
       "      <th>4</th>\n",
       "      <td>715494628a50142ce8cb17191cfe6d0f3cae0934</td>\n",
       "      <td>496.896796</td>\n",
       "    </tr>\n",
       "  </tbody>\n",
       "</table>\n",
       "</div>"
      ],
      "text/plain": [
       "                               NU_INSCRICAO  NU_NOTA_MT\n",
       "0  73ff9fcc02f0a99919906c942c2e1a1042cdcf98   -2.927861\n",
       "1  71a95f9f1b91a82c65ad94abbdf9f54e6066f968  579.595041\n",
       "2  b38a03232f43b11c9d0788abaf060f7366053b6d  426.796476\n",
       "3  70b682d9a3636be23f6120fa9d6b164eb3c6002d  437.916498\n",
       "4  715494628a50142ce8cb17191cfe6d0f3cae0934  496.896796"
      ]
     },
     "execution_count": 26,
     "metadata": {},
     "output_type": "execute_result"
    }
   ],
   "source": [
    "# Preparando o dataframe para entrega caso eu escolha este modelo\n",
    "answer={\n",
    "'NU_NOTA_MT':  y_pred.flatten()\n",
    "}\n",
    "answer_df=pd.DataFrame(answer)\n",
    "answer_df_reg = pd.concat([reg_number,answer_df], axis=1)\n",
    "answer_df_reg.head()"
   ]
  },
  {
   "cell_type": "code",
   "execution_count": 27,
   "metadata": {},
   "outputs": [
    {
     "data": {
      "text/html": [
       "<div>\n",
       "<style scoped>\n",
       "    .dataframe tbody tr th:only-of-type {\n",
       "        vertical-align: middle;\n",
       "    }\n",
       "\n",
       "    .dataframe tbody tr th {\n",
       "        vertical-align: top;\n",
       "    }\n",
       "\n",
       "    .dataframe thead th {\n",
       "        text-align: right;\n",
       "    }\n",
       "</style>\n",
       "<table border=\"1\" class=\"dataframe\">\n",
       "  <thead>\n",
       "    <tr style=\"text-align: right;\">\n",
       "      <th></th>\n",
       "      <th>NU_NOTA_MT</th>\n",
       "    </tr>\n",
       "  </thead>\n",
       "  <tbody>\n",
       "    <tr>\n",
       "      <th>count</th>\n",
       "      <td>2746.000000</td>\n",
       "    </tr>\n",
       "    <tr>\n",
       "      <th>mean</th>\n",
       "      <td>358.469008</td>\n",
       "    </tr>\n",
       "    <tr>\n",
       "      <th>std</th>\n",
       "      <td>217.927070</td>\n",
       "    </tr>\n",
       "    <tr>\n",
       "      <th>min</th>\n",
       "      <td>-2.927861</td>\n",
       "    </tr>\n",
       "    <tr>\n",
       "      <th>25%</th>\n",
       "      <td>88.018045</td>\n",
       "    </tr>\n",
       "    <tr>\n",
       "      <th>50%</th>\n",
       "      <td>452.058006</td>\n",
       "    </tr>\n",
       "    <tr>\n",
       "      <th>75%</th>\n",
       "      <td>506.309397</td>\n",
       "    </tr>\n",
       "    <tr>\n",
       "      <th>max</th>\n",
       "      <td>707.223629</td>\n",
       "    </tr>\n",
       "  </tbody>\n",
       "</table>\n",
       "</div>"
      ],
      "text/plain": [
       "        NU_NOTA_MT\n",
       "count  2746.000000\n",
       "mean    358.469008\n",
       "std     217.927070\n",
       "min      -2.927861\n",
       "25%      88.018045\n",
       "50%     452.058006\n",
       "75%     506.309397\n",
       "max     707.223629"
      ]
     },
     "execution_count": 27,
     "metadata": {},
     "output_type": "execute_result"
    }
   ],
   "source": [
    "answer_df_reg.describe()"
   ]
  },
  {
   "cell_type": "code",
   "execution_count": 28,
   "metadata": {},
   "outputs": [
    {
     "name": "stdout",
     "output_type": "stream",
     "text": [
      "[[ 1.         -1.67130354 -1.6809891  -1.62297745 -1.45535622]\n",
      " [ 1.          1.43450718  1.1364538   1.02249348  0.48507072]\n",
      " [ 1.          0.32632838  0.29653368  0.60929855  0.48507072]\n",
      " [ 1.          0.55350269  0.26406688  0.52103091  0.63433433]\n",
      " [ 1.          0.89144794  0.77468097  0.87921846  0.48507072]\n",
      " [ 1.          0.22776102  0.62499642  0.77005654  0.41043892]\n",
      " [ 1.          0.38077512  0.03806428 -0.05761256 -0.18661552]\n",
      " [ 1.          0.75861668  0.91466766  1.1440214  -0.18661552]\n",
      " [ 1.          0.59809269  0.55964118  0.74020758  0.33580711]\n",
      " [ 1.         -1.67130354 -1.6809891  -1.62297745 -1.45535622]]\n"
     ]
    }
   ],
   "source": [
    "# inserindo a coluna 1s na matriz X para computar o beta_0 intercept\n",
    "from statsmodels.tools import add_constant\n",
    "Xtrain = np.copy(X_train)\n",
    "Xtest = np.copy(X_test)\n",
    "Xtrain = add_constant(Xtrain)\n",
    "print(Xtrain[:10,:])"
   ]
  },
  {
   "cell_type": "code",
   "execution_count": 29,
   "metadata": {},
   "outputs": [],
   "source": [
    "# importando OLS Ordinary Least Squares\n",
    "from statsmodels.api import OLS"
   ]
  },
  {
   "cell_type": "code",
   "execution_count": 30,
   "metadata": {},
   "outputs": [],
   "source": [
    "# definindo o primeiro (completo)\n",
    "X_opt = Xtrain[:,[0, 1, 2 ,3, 4]]\n",
    "y_opt = y_train"
   ]
  },
  {
   "cell_type": "code",
   "execution_count": 31,
   "metadata": {},
   "outputs": [
    {
     "data": {
      "text/html": [
       "<table class=\"simpletable\">\n",
       "<caption>OLS Regression Results</caption>\n",
       "<tr>\n",
       "  <th>Dep. Variable:</th>            <td>y</td>        <th>  R-squared:         </th> <td>   0.903</td> \n",
       "</tr>\n",
       "<tr>\n",
       "  <th>Model:</th>                   <td>OLS</td>       <th>  Adj. R-squared:    </th> <td>   0.903</td> \n",
       "</tr>\n",
       "<tr>\n",
       "  <th>Method:</th>             <td>Least Squares</td>  <th>  F-statistic:       </th> <td>2.546e+04</td>\n",
       "</tr>\n",
       "<tr>\n",
       "  <th>Date:</th>             <td>Fri, 12 Jun 2020</td> <th>  Prob (F-statistic):</th>  <td>  0.00</td>  \n",
       "</tr>\n",
       "<tr>\n",
       "  <th>Time:</th>                 <td>22:37:07</td>     <th>  Log-Likelihood:    </th> <td> -62464.</td> \n",
       "</tr>\n",
       "<tr>\n",
       "  <th>No. Observations:</th>      <td> 10984</td>      <th>  AIC:               </th> <td>1.249e+05</td>\n",
       "</tr>\n",
       "<tr>\n",
       "  <th>Df Residuals:</th>          <td> 10979</td>      <th>  BIC:               </th> <td>1.250e+05</td>\n",
       "</tr>\n",
       "<tr>\n",
       "  <th>Df Model:</th>              <td>     4</td>      <th>                     </th>     <td> </td>    \n",
       "</tr>\n",
       "<tr>\n",
       "  <th>Covariance Type:</th>      <td>nonrobust</td>    <th>                     </th>     <td> </td>    \n",
       "</tr>\n",
       "</table>\n",
       "<table class=\"simpletable\">\n",
       "<tr>\n",
       "    <td></td>       <th>coef</th>     <th>std err</th>      <th>t</th>      <th>P>|t|</th>  <th>[0.025</th>    <th>0.975]</th>  \n",
       "</tr>\n",
       "<tr>\n",
       "  <th>const</th> <td>  355.6452</td> <td>    0.681</td> <td>  522.111</td> <td> 0.000</td> <td>  354.310</td> <td>  356.980</td>\n",
       "</tr>\n",
       "<tr>\n",
       "  <th>x1</th>    <td>   76.3362</td> <td>    2.816</td> <td>   27.110</td> <td> 0.000</td> <td>   70.817</td> <td>   81.856</td>\n",
       "</tr>\n",
       "<tr>\n",
       "  <th>x2</th>    <td>  -30.4331</td> <td>    3.100</td> <td>   -9.818</td> <td> 0.000</td> <td>  -36.509</td> <td>  -24.357</td>\n",
       "</tr>\n",
       "<tr>\n",
       "  <th>x3</th>    <td>  154.1114</td> <td>    2.270</td> <td>   67.885</td> <td> 0.000</td> <td>  149.661</td> <td>  158.561</td>\n",
       "</tr>\n",
       "<tr>\n",
       "  <th>x4</th>    <td>   22.0087</td> <td>    1.616</td> <td>   13.621</td> <td> 0.000</td> <td>   18.841</td> <td>   25.176</td>\n",
       "</tr>\n",
       "</table>\n",
       "<table class=\"simpletable\">\n",
       "<tr>\n",
       "  <th>Omnibus:</th>       <td>733.473</td> <th>  Durbin-Watson:     </th> <td>   1.978</td>\n",
       "</tr>\n",
       "<tr>\n",
       "  <th>Prob(Omnibus):</th> <td> 0.000</td>  <th>  Jarque-Bera (JB):  </th> <td>1574.236</td>\n",
       "</tr>\n",
       "<tr>\n",
       "  <th>Skew:</th>          <td> 0.445</td>  <th>  Prob(JB):          </th> <td>    0.00</td>\n",
       "</tr>\n",
       "<tr>\n",
       "  <th>Kurtosis:</th>      <td> 4.628</td>  <th>  Cond. No.          </th> <td>    11.2</td>\n",
       "</tr>\n",
       "</table><br/><br/>Warnings:<br/>[1] Standard Errors assume that the covariance matrix of the errors is correctly specified."
      ],
      "text/plain": [
       "<class 'statsmodels.iolib.summary.Summary'>\n",
       "\"\"\"\n",
       "                            OLS Regression Results                            \n",
       "==============================================================================\n",
       "Dep. Variable:                      y   R-squared:                       0.903\n",
       "Model:                            OLS   Adj. R-squared:                  0.903\n",
       "Method:                 Least Squares   F-statistic:                 2.546e+04\n",
       "Date:                Fri, 12 Jun 2020   Prob (F-statistic):               0.00\n",
       "Time:                        22:37:07   Log-Likelihood:                -62464.\n",
       "No. Observations:               10984   AIC:                         1.249e+05\n",
       "Df Residuals:                   10979   BIC:                         1.250e+05\n",
       "Df Model:                           4                                         \n",
       "Covariance Type:            nonrobust                                         \n",
       "==============================================================================\n",
       "                 coef    std err          t      P>|t|      [0.025      0.975]\n",
       "------------------------------------------------------------------------------\n",
       "const        355.6452      0.681    522.111      0.000     354.310     356.980\n",
       "x1            76.3362      2.816     27.110      0.000      70.817      81.856\n",
       "x2           -30.4331      3.100     -9.818      0.000     -36.509     -24.357\n",
       "x3           154.1114      2.270     67.885      0.000     149.661     158.561\n",
       "x4            22.0087      1.616     13.621      0.000      18.841      25.176\n",
       "==============================================================================\n",
       "Omnibus:                      733.473   Durbin-Watson:                   1.978\n",
       "Prob(Omnibus):                  0.000   Jarque-Bera (JB):             1574.236\n",
       "Skew:                           0.445   Prob(JB):                         0.00\n",
       "Kurtosis:                       4.628   Cond. No.                         11.2\n",
       "==============================================================================\n",
       "\n",
       "Warnings:\n",
       "[1] Standard Errors assume that the covariance matrix of the errors is correctly specified.\n",
       "\"\"\""
      ]
     },
     "execution_count": 31,
     "metadata": {},
     "output_type": "execute_result"
    }
   ],
   "source": [
    "regressor_OLS = OLS(endog=y_opt, exog=X_opt).fit()\n",
    "regressor_OLS.summary()"
   ]
  },
  {
   "cell_type": "code",
   "execution_count": 32,
   "metadata": {},
   "outputs": [],
   "source": [
    "from sklearn.neural_network import MLPRegressor"
   ]
  },
  {
   "cell_type": "code",
   "execution_count": 33,
   "metadata": {},
   "outputs": [],
   "source": [
    "from sklearn.ensemble import RandomForestRegressor\n",
    "regressor = RandomForestRegressor( \n",
    "           criterion='mae', \n",
    "           max_depth=8,\n",
    "           max_leaf_nodes=None,\n",
    "           min_impurity_split=None,\n",
    "           min_samples_leaf=1,\n",
    "           min_samples_split=2,\n",
    "           min_weight_fraction_leaf=0.0,\n",
    "           n_estimators= 500,\n",
    "           n_jobs=-1,\n",
    "           random_state=0,\n",
    "           verbose=0,\n",
    "           warm_start=False\n",
    ")"
   ]
  },
  {
   "cell_type": "code",
   "execution_count": 38,
   "metadata": {},
   "outputs": [
    {
     "data": {
      "text/plain": [
       "(10984, 1)"
      ]
     },
     "execution_count": 38,
     "metadata": {},
     "output_type": "execute_result"
    }
   ],
   "source": [
    "y_train.reshape(10984,)\n",
    "y_train.shape"
   ]
  },
  {
   "cell_type": "code",
   "execution_count": 40,
   "metadata": {},
   "outputs": [
    {
     "data": {
      "text/plain": [
       "RandomForestRegressor(bootstrap=True, criterion='mae', max_depth=8,\n",
       "           max_features='auto', max_leaf_nodes=None,\n",
       "           min_impurity_decrease=0.0, min_impurity_split=None,\n",
       "           min_samples_leaf=1, min_samples_split=2,\n",
       "           min_weight_fraction_leaf=0.0, n_estimators=500, n_jobs=-1,\n",
       "           oob_score=False, random_state=0, verbose=0, warm_start=False)"
      ]
     },
     "execution_count": 40,
     "metadata": {},
     "output_type": "execute_result"
    }
   ],
   "source": [
    "regressor.fit(X_train, y_train.ravel())"
   ]
  },
  {
   "cell_type": "code",
   "execution_count": 44,
   "metadata": {},
   "outputs": [
    {
     "data": {
      "text/plain": [
       "0.9216139851174121"
      ]
     },
     "execution_count": 44,
     "metadata": {},
     "output_type": "execute_result"
    }
   ],
   "source": [
    "regressor.score(X_test, y_test)"
   ]
  },
  {
   "cell_type": "code",
   "execution_count": 45,
   "metadata": {},
   "outputs": [],
   "source": [
    "y_pred_test = regressor.predict(X_test)"
   ]
  },
  {
   "cell_type": "code",
   "execution_count": 48,
   "metadata": {},
   "outputs": [],
   "source": [
    "from sklearn.neural_network import MLPRegressor"
   ]
  },
  {
   "cell_type": "code",
   "execution_count": 49,
   "metadata": {},
   "outputs": [],
   "source": [
    "nn = 20\n",
    "#nl = 1\n",
    "mlp = MLPRegressor(hidden_layer_sizes=(nn, ),\n",
    "                  max_iter=1000,\n",
    "                  activation='relu',\n",
    "                  solver='adam',\n",
    "                  learning_rate='constant')"
   ]
  },
  {
   "cell_type": "code",
   "execution_count": 50,
   "metadata": {},
   "outputs": [
    {
     "name": "stderr",
     "output_type": "stream",
     "text": [
      "/home/wagner/anaconda3/lib/python3.7/site-packages/sklearn/neural_network/multilayer_perceptron.py:1316: DataConversionWarning: A column-vector y was passed when a 1d array was expected. Please change the shape of y to (n_samples, ), for example using ravel().\n",
      "  y = column_or_1d(y, warn=True)\n",
      "/home/wagner/anaconda3/lib/python3.7/site-packages/sklearn/neural_network/multilayer_perceptron.py:562: ConvergenceWarning: Stochastic Optimizer: Maximum iterations (1000) reached and the optimization hasn't converged yet.\n",
      "  % self.max_iter, ConvergenceWarning)\n"
     ]
    },
    {
     "data": {
      "text/plain": [
       "MLPRegressor(activation='relu', alpha=0.0001, batch_size='auto', beta_1=0.9,\n",
       "       beta_2=0.999, early_stopping=False, epsilon=1e-08,\n",
       "       hidden_layer_sizes=(20,), learning_rate='constant',\n",
       "       learning_rate_init=0.001, max_iter=1000, momentum=0.9,\n",
       "       n_iter_no_change=10, nesterovs_momentum=True, power_t=0.5,\n",
       "       random_state=None, shuffle=True, solver='adam', tol=0.0001,\n",
       "       validation_fraction=0.1, verbose=False, warm_start=False)"
      ]
     },
     "execution_count": 50,
     "metadata": {},
     "output_type": "execute_result"
    }
   ],
   "source": [
    "mlp.fit(X_train,y_train)"
   ]
  },
  {
   "cell_type": "code",
   "execution_count": 51,
   "metadata": {},
   "outputs": [
    {
     "data": {
      "text/plain": [
       "array([-2.10871816e-02,  5.84162264e+02,  4.48461494e+02,  4.40303648e+02,\n",
       "        4.83261352e+02,  7.27137383e+02,  4.44380534e+02,  5.00659789e+02,\n",
       "        4.53562744e+02,  4.14668025e+02])"
      ]
     },
     "execution_count": 51,
     "metadata": {},
     "output_type": "execute_result"
    }
   ],
   "source": [
    "y_pred_nn = mlp.predict(X_test)\n",
    "y_pred_nn[:10]"
   ]
  },
  {
   "cell_type": "code",
   "execution_count": 52,
   "metadata": {},
   "outputs": [
    {
     "data": {
      "text/plain": [
       "0.9220986418337023"
      ]
     },
     "execution_count": 52,
     "metadata": {},
     "output_type": "execute_result"
    }
   ],
   "source": [
    "# Avaliando a qualidade do modelo \n",
    "'''O método score para a classe MLPRegressor é o valor R^2 conhecido como fator de correlação \n",
    "sendo um valor entre 0 e 1'''\n",
    "mlp.score(X_test,y_test)"
   ]
  },
  {
   "cell_type": "code",
   "execution_count": 53,
   "metadata": {},
   "outputs": [
    {
     "data": {
      "text/plain": [
       "array([[ -0.],\n",
       "       [-79.],\n",
       "       [-18.],\n",
       "       ...,\n",
       "       [ 48.],\n",
       "       [ -0.],\n",
       "       [123.]])"
      ]
     },
     "execution_count": 53,
     "metadata": {},
     "output_type": "execute_result"
    }
   ],
   "source": [
    "# Análise de resíduos\n",
    "residuos = np.round((y_pred_nn.reshape(-1,1)-y_test.reshape(-1,1)))\n",
    "residuos"
   ]
  },
  {
   "cell_type": "code",
   "execution_count": 54,
   "metadata": {},
   "outputs": [
    {
     "data": {
      "image/png": "[encoded data removed]",
      "text/plain": [
       "<Figure size 576x360 with 1 Axes>"
      ]
     },
     "metadata": {
      "needs_background": "light"
     },
     "output_type": "display_data"
    }
   ],
   "source": [
    "# Plotando histograma dos resíduos\n",
    "# Lembre-se de que os resíduos precisam ter distribuição normal com média 0.\n",
    "plt.rcParams[\"figure.figsize\"] = (8,5)\n",
    "plt.hist(residuos, color='orange', bins=15)\n",
    "plt.title('Histograma dos resíduos da regressão')\n",
    "plt.show()"
   ]
  },
  {
   "cell_type": "code",
   "execution_count": 55,
   "metadata": {},
   "outputs": [
    {
     "data": {
      "image/png": "[encoded data removed]",
      "text/plain": [
       "<Figure size 576x360 with 1 Axes>"
      ]
     },
     "metadata": {
      "needs_background": "light"
     },
     "output_type": "display_data"
    }
   ],
   "source": [
    "# plot do gráfico de dispersão (scatterplot) dos dos valores preditos (ŷ) e resíduos.\n",
    "# É preciso que os resíduos e a variável resposta sejam não correlacionados.\n",
    "plt.scatter(y=residuos, x=y_pred, color='green', s=50, alpha=.6)\n",
    "plt.hlines(y=0, xmin=-0, xmax=1000, color='orange')\n",
    "plt.ylabel('$\\epsilon = y - \\hat{y}$ - Resíduos')\n",
    "plt.xlabel('$\\hat{y}$ ou $E(y)$ - Predito')\n",
    "plt.show()"
   ]
  },
  {
   "cell_type": "code",
   "execution_count": 56,
   "metadata": {},
   "outputs": [],
   "source": [
    "dataset_test = pd.read_csv('test.csv',\n",
    "                           usecols=['NU_INSCRICAO', 'NU_NOTA_CN', \n",
    "                                    'NU_NOTA_CH','NU_NOTA_LC','NU_NOTA_REDACAO'])"
   ]
  },
  {
   "cell_type": "code",
   "execution_count": 41,
   "metadata": {},
   "outputs": [
    {
     "data": {
      "text/html": [
       "<div>\n",
       "<style scoped>\n",
       "    .dataframe tbody tr th:only-of-type {\n",
       "        vertical-align: middle;\n",
       "    }\n",
       "\n",
       "    .dataframe tbody tr th {\n",
       "        vertical-align: top;\n",
       "    }\n",
       "\n",
       "    .dataframe thead th {\n",
       "        text-align: right;\n",
       "    }\n",
       "</style>\n",
       "<table border=\"1\" class=\"dataframe\">\n",
       "  <thead>\n",
       "    <tr style=\"text-align: right;\">\n",
       "      <th></th>\n",
       "      <th>NU_INSCRICAO</th>\n",
       "      <th>NU_NOTA_CN</th>\n",
       "      <th>NU_NOTA_CH</th>\n",
       "      <th>NU_NOTA_LC</th>\n",
       "      <th>NU_NOTA_REDACAO</th>\n",
       "    </tr>\n",
       "  </thead>\n",
       "  <tbody>\n",
       "    <tr>\n",
       "      <th>0</th>\n",
       "      <td>73ff9fcc02f0a99919906c942c2e1a1042cdcf98</td>\n",
       "      <td>464.8</td>\n",
       "      <td>443.5</td>\n",
       "      <td>431.8</td>\n",
       "      <td>420.0</td>\n",
       "    </tr>\n",
       "    <tr>\n",
       "      <th>1</th>\n",
       "      <td>71a95f9f1b91a82c65ad94abbdf9f54e6066f968</td>\n",
       "      <td>391.1</td>\n",
       "      <td>491.1</td>\n",
       "      <td>548.0</td>\n",
       "      <td>580.0</td>\n",
       "    </tr>\n",
       "    <tr>\n",
       "      <th>2</th>\n",
       "      <td>b38a03232f43b11c9d0788abaf060f7366053b6d</td>\n",
       "      <td>595.9</td>\n",
       "      <td>622.7</td>\n",
       "      <td>613.6</td>\n",
       "      <td>320.0</td>\n",
       "    </tr>\n",
       "    <tr>\n",
       "      <th>3</th>\n",
       "      <td>70b682d9a3636be23f6120fa9d6b164eb3c6002d</td>\n",
       "      <td>NaN</td>\n",
       "      <td>NaN</td>\n",
       "      <td>NaN</td>\n",
       "      <td>NaN</td>\n",
       "    </tr>\n",
       "    <tr>\n",
       "      <th>4</th>\n",
       "      <td>715494628a50142ce8cb17191cfe6d0f3cae0934</td>\n",
       "      <td>592.9</td>\n",
       "      <td>492.6</td>\n",
       "      <td>571.4</td>\n",
       "      <td>320.0</td>\n",
       "    </tr>\n",
       "  </tbody>\n",
       "</table>\n",
       "</div>"
      ],
      "text/plain": [
       "                               NU_INSCRICAO  NU_NOTA_CN  NU_NOTA_CH  \\\n",
       "0  73ff9fcc02f0a99919906c942c2e1a1042cdcf98       464.8       443.5   \n",
       "1  71a95f9f1b91a82c65ad94abbdf9f54e6066f968       391.1       491.1   \n",
       "2  b38a03232f43b11c9d0788abaf060f7366053b6d       595.9       622.7   \n",
       "3  70b682d9a3636be23f6120fa9d6b164eb3c6002d         NaN         NaN   \n",
       "4  715494628a50142ce8cb17191cfe6d0f3cae0934       592.9       492.6   \n",
       "\n",
       "   NU_NOTA_LC  NU_NOTA_REDACAO  \n",
       "0       431.8            420.0  \n",
       "1       548.0            580.0  \n",
       "2       613.6            320.0  \n",
       "3         NaN              NaN  \n",
       "4       571.4            320.0  "
      ]
     },
     "execution_count": 41,
     "metadata": {},
     "output_type": "execute_result"
    }
   ],
   "source": [
    "dataset_test.head()"
   ]
  },
  {
   "cell_type": "code",
   "execution_count": 42,
   "metadata": {},
   "outputs": [
    {
     "name": "stdout",
     "output_type": "stream",
     "text": [
      "<class 'pandas.core.frame.DataFrame'>\n",
      "RangeIndex: 4576 entries, 0 to 4575\n",
      "Data columns (total 5 columns):\n",
      "NU_INSCRICAO       4576 non-null object\n",
      "NU_NOTA_CN         4576 non-null float64\n",
      "NU_NOTA_CH         4576 non-null float64\n",
      "NU_NOTA_LC         4576 non-null float64\n",
      "NU_NOTA_REDACAO    4576 non-null float64\n",
      "dtypes: float64(4), object(1)\n",
      "memory usage: 178.8+ KB\n"
     ]
    }
   ],
   "source": [
    "# Subistituindo notas Nan por 0 provavelmente candidatos faltantes\n",
    "dataset_test = dataset_test.replace(np.nan,0)\n",
    "dataset_test.info()"
   ]
  },
  {
   "cell_type": "code",
   "execution_count": 43,
   "metadata": {},
   "outputs": [
    {
     "data": {
      "text/html": [
       "<div>\n",
       "<style scoped>\n",
       "    .dataframe tbody tr th:only-of-type {\n",
       "        vertical-align: middle;\n",
       "    }\n",
       "\n",
       "    .dataframe tbody tr th {\n",
       "        vertical-align: top;\n",
       "    }\n",
       "\n",
       "    .dataframe thead th {\n",
       "        text-align: right;\n",
       "    }\n",
       "</style>\n",
       "<table border=\"1\" class=\"dataframe\">\n",
       "  <thead>\n",
       "    <tr style=\"text-align: right;\">\n",
       "      <th></th>\n",
       "      <th>NU_INSCRICAO</th>\n",
       "      <th>NU_NOTA_CN</th>\n",
       "      <th>NU_NOTA_CH</th>\n",
       "      <th>NU_NOTA_LC</th>\n",
       "      <th>NU_NOTA_REDACAO</th>\n",
       "    </tr>\n",
       "  </thead>\n",
       "  <tbody>\n",
       "    <tr>\n",
       "      <th>0</th>\n",
       "      <td>73ff9fcc02f0a99919906c942c2e1a1042cdcf98</td>\n",
       "      <td>464.8</td>\n",
       "      <td>443.5</td>\n",
       "      <td>431.8</td>\n",
       "      <td>420.0</td>\n",
       "    </tr>\n",
       "    <tr>\n",
       "      <th>1</th>\n",
       "      <td>71a95f9f1b91a82c65ad94abbdf9f54e6066f968</td>\n",
       "      <td>391.1</td>\n",
       "      <td>491.1</td>\n",
       "      <td>548.0</td>\n",
       "      <td>580.0</td>\n",
       "    </tr>\n",
       "    <tr>\n",
       "      <th>2</th>\n",
       "      <td>b38a03232f43b11c9d0788abaf060f7366053b6d</td>\n",
       "      <td>595.9</td>\n",
       "      <td>622.7</td>\n",
       "      <td>613.6</td>\n",
       "      <td>320.0</td>\n",
       "    </tr>\n",
       "    <tr>\n",
       "      <th>3</th>\n",
       "      <td>70b682d9a3636be23f6120fa9d6b164eb3c6002d</td>\n",
       "      <td>0.0</td>\n",
       "      <td>0.0</td>\n",
       "      <td>0.0</td>\n",
       "      <td>0.0</td>\n",
       "    </tr>\n",
       "    <tr>\n",
       "      <th>4</th>\n",
       "      <td>715494628a50142ce8cb17191cfe6d0f3cae0934</td>\n",
       "      <td>592.9</td>\n",
       "      <td>492.6</td>\n",
       "      <td>571.4</td>\n",
       "      <td>320.0</td>\n",
       "    </tr>\n",
       "  </tbody>\n",
       "</table>\n",
       "</div>"
      ],
      "text/plain": [
       "                               NU_INSCRICAO  NU_NOTA_CN  NU_NOTA_CH  \\\n",
       "0  73ff9fcc02f0a99919906c942c2e1a1042cdcf98       464.8       443.5   \n",
       "1  71a95f9f1b91a82c65ad94abbdf9f54e6066f968       391.1       491.1   \n",
       "2  b38a03232f43b11c9d0788abaf060f7366053b6d       595.9       622.7   \n",
       "3  70b682d9a3636be23f6120fa9d6b164eb3c6002d         0.0         0.0   \n",
       "4  715494628a50142ce8cb17191cfe6d0f3cae0934       592.9       492.6   \n",
       "\n",
       "   NU_NOTA_LC  NU_NOTA_REDACAO  \n",
       "0       431.8            420.0  \n",
       "1       548.0            580.0  \n",
       "2       613.6            320.0  \n",
       "3         0.0              0.0  \n",
       "4       571.4            320.0  "
      ]
     },
     "execution_count": 43,
     "metadata": {},
     "output_type": "execute_result"
    }
   ],
   "source": [
    "dataset_test.head()"
   ]
  },
  {
   "cell_type": "code",
   "execution_count": 44,
   "metadata": {},
   "outputs": [
    {
     "data": {
      "text/plain": [
       "array([[464.8, 443.5, 431.8, 420. ],\n",
       "       [391.1, 491.1, 548. , 580. ],\n",
       "       [595.9, 622.7, 613.6, 320. ],\n",
       "       [  0. ,   0. ,   0. ,   0. ],\n",
       "       [592.9, 492.6, 571.4, 320. ],\n",
       "       [414.5, 568.5, 542.5, 560. ],\n",
       "       [485.7, 654.6, 606.6, 620. ],\n",
       "       [423.2, 521. , 451.8, 420. ],\n",
       "       [414.4, 577.6, 548.6, 740. ],\n",
       "       [456.8, 518.5, 488.7, 580. ]])"
      ]
     },
     "execution_count": 44,
     "metadata": {},
     "output_type": "execute_result"
    }
   ],
   "source": [
    "# extraindo as matrizes X\n",
    "X_test_answer = dataset_test.loc[:,['NU_NOTA_CN','NU_NOTA_CH','NU_NOTA_LC','NU_NOTA_REDACAO'] ].values\n",
    "X_test_answer[:10,:]"
   ]
  },
  {
   "cell_type": "code",
   "execution_count": 45,
   "metadata": {},
   "outputs": [
    {
     "name": "stdout",
     "output_type": "stream",
     "text": [
      "[[ 0.5103208   0.18901378  0.21827714  0.1119117 ]\n",
      " [ 0.16439628  0.38971759  0.71376992  0.70896614]\n",
      " [ 1.12566277  0.94460457  0.99349735 -0.26124733]\n",
      " [-1.67130354 -1.6809891  -1.62297745 -1.45535622]\n",
      " [ 1.11158172  0.39604229  0.81355074 -0.26124733]\n",
      " [ 0.27422849  0.71607209  0.69031717  0.63433433]\n",
      " [ 0.60841879  1.07910985  0.96364838  0.85822975]\n",
      " [ 0.31506354  0.51578993  0.30355989  0.1119117 ]\n",
      " [ 0.27375912  0.75444194  0.71632841  1.30602058]\n",
      " [ 0.47277132  0.50524877  0.46090657  0.70896614]]\n"
     ]
    }
   ],
   "source": [
    "# Aplicando a normalização para a base de testes\n",
    "X_test_answer[:,:] = sc_X.transform(X_test_answer[:,:])\n",
    "print(X_test_answer[:10,:])"
   ]
  },
  {
   "cell_type": "code",
   "execution_count": 46,
   "metadata": {},
   "outputs": [
    {
     "data": {
      "text/plain": [
       "array([2.64462621e-01, 5.85664600e+02, 4.48621463e+02, 4.41029548e+02,\n",
       "       4.86601473e+02, 7.25314434e+02, 4.47544143e+02, 5.04753519e+02,\n",
       "       4.54769405e+02, 4.12625687e+02, 4.71912979e+02, 4.68203862e+02,\n",
       "       4.44860213e+02, 4.53498570e+02, 4.37560952e+02, 2.64462621e-01,\n",
       "       4.09887250e+02, 5.24974367e+02, 5.67207355e+02, 2.64462621e-01])"
      ]
     },
     "execution_count": 46,
     "metadata": {},
     "output_type": "execute_result"
    }
   ],
   "source": [
    "#predição\n",
    "y_pred = mlp.predict(X_test)\n",
    "y_pred[:20]"
   ]
  },
  {
   "cell_type": "code",
   "execution_count": 47,
   "metadata": {},
   "outputs": [
    {
     "data": {
      "text/plain": [
       "(2746,)"
      ]
     },
     "execution_count": 47,
     "metadata": {},
     "output_type": "execute_result"
    }
   ],
   "source": [
    "y_pred.shape"
   ]
  },
  {
   "cell_type": "code",
   "execution_count": 48,
   "metadata": {},
   "outputs": [
    {
     "data": {
      "text/plain": [
       "(4576, 1)"
      ]
     },
     "execution_count": 48,
     "metadata": {},
     "output_type": "execute_result"
    }
   ],
   "source": [
    "reg_number = dataset_test.loc[:,['NU_INSCRICAO'] ]\n",
    "reg_number.shape"
   ]
  },
  {
   "cell_type": "code",
   "execution_count": 49,
   "metadata": {},
   "outputs": [
    {
     "data": {
      "text/html": [
       "<div>\n",
       "<style scoped>\n",
       "    .dataframe tbody tr th:only-of-type {\n",
       "        vertical-align: middle;\n",
       "    }\n",
       "\n",
       "    .dataframe tbody tr th {\n",
       "        vertical-align: top;\n",
       "    }\n",
       "\n",
       "    .dataframe thead th {\n",
       "        text-align: right;\n",
       "    }\n",
       "</style>\n",
       "<table border=\"1\" class=\"dataframe\">\n",
       "  <thead>\n",
       "    <tr style=\"text-align: right;\">\n",
       "      <th></th>\n",
       "      <th>NU_INSCRICAO</th>\n",
       "      <th>NU_NOTA_MT</th>\n",
       "    </tr>\n",
       "  </thead>\n",
       "  <tbody>\n",
       "    <tr>\n",
       "      <th>0</th>\n",
       "      <td>73ff9fcc02f0a99919906c942c2e1a1042cdcf98</td>\n",
       "      <td>0.264463</td>\n",
       "    </tr>\n",
       "    <tr>\n",
       "      <th>1</th>\n",
       "      <td>71a95f9f1b91a82c65ad94abbdf9f54e6066f968</td>\n",
       "      <td>585.664600</td>\n",
       "    </tr>\n",
       "    <tr>\n",
       "      <th>2</th>\n",
       "      <td>b38a03232f43b11c9d0788abaf060f7366053b6d</td>\n",
       "      <td>448.621463</td>\n",
       "    </tr>\n",
       "    <tr>\n",
       "      <th>3</th>\n",
       "      <td>70b682d9a3636be23f6120fa9d6b164eb3c6002d</td>\n",
       "      <td>441.029548</td>\n",
       "    </tr>\n",
       "    <tr>\n",
       "      <th>4</th>\n",
       "      <td>715494628a50142ce8cb17191cfe6d0f3cae0934</td>\n",
       "      <td>486.601473</td>\n",
       "    </tr>\n",
       "  </tbody>\n",
       "</table>\n",
       "</div>"
      ],
      "text/plain": [
       "                               NU_INSCRICAO  NU_NOTA_MT\n",
       "0  73ff9fcc02f0a99919906c942c2e1a1042cdcf98    0.264463\n",
       "1  71a95f9f1b91a82c65ad94abbdf9f54e6066f968  585.664600\n",
       "2  b38a03232f43b11c9d0788abaf060f7366053b6d  448.621463\n",
       "3  70b682d9a3636be23f6120fa9d6b164eb3c6002d  441.029548\n",
       "4  715494628a50142ce8cb17191cfe6d0f3cae0934  486.601473"
      ]
     },
     "execution_count": 49,
     "metadata": {},
     "output_type": "execute_result"
    }
   ],
   "source": [
    "# Preparando o dataframe para entrega\n",
    "answer={\n",
    "'NU_NOTA_MT':  y_pred\n",
    "}\n",
    "answer_df=pd.DataFrame(answer)\n",
    "answer_df_reg = pd.concat([reg_number,answer_df], axis=1)\n",
    "answer_df_reg.head()"
   ]
  },
  {
   "cell_type": "code",
   "execution_count": 50,
   "metadata": {},
   "outputs": [
    {
     "data": {
      "text/html": [
       "<div>\n",
       "<style scoped>\n",
       "    .dataframe tbody tr th:only-of-type {\n",
       "        vertical-align: middle;\n",
       "    }\n",
       "\n",
       "    .dataframe tbody tr th {\n",
       "        vertical-align: top;\n",
       "    }\n",
       "\n",
       "    .dataframe thead th {\n",
       "        text-align: right;\n",
       "    }\n",
       "</style>\n",
       "<table border=\"1\" class=\"dataframe\">\n",
       "  <thead>\n",
       "    <tr style=\"text-align: right;\">\n",
       "      <th></th>\n",
       "      <th>NU_NOTA_MT</th>\n",
       "    </tr>\n",
       "  </thead>\n",
       "  <tbody>\n",
       "    <tr>\n",
       "      <th>count</th>\n",
       "      <td>2746.000000</td>\n",
       "    </tr>\n",
       "    <tr>\n",
       "      <th>mean</th>\n",
       "      <td>358.655119</td>\n",
       "    </tr>\n",
       "    <tr>\n",
       "      <th>std</th>\n",
       "      <td>220.692760</td>\n",
       "    </tr>\n",
       "    <tr>\n",
       "      <th>min</th>\n",
       "      <td>-72.475830</td>\n",
       "    </tr>\n",
       "    <tr>\n",
       "      <th>25%</th>\n",
       "      <td>0.264463</td>\n",
       "    </tr>\n",
       "    <tr>\n",
       "      <th>50%</th>\n",
       "      <td>450.192578</td>\n",
       "    </tr>\n",
       "    <tr>\n",
       "      <th>75%</th>\n",
       "      <td>483.674256</td>\n",
       "    </tr>\n",
       "    <tr>\n",
       "      <th>max</th>\n",
       "      <td>817.238292</td>\n",
       "    </tr>\n",
       "  </tbody>\n",
       "</table>\n",
       "</div>"
      ],
      "text/plain": [
       "        NU_NOTA_MT\n",
       "count  2746.000000\n",
       "mean    358.655119\n",
       "std     220.692760\n",
       "min     -72.475830\n",
       "25%       0.264463\n",
       "50%     450.192578\n",
       "75%     483.674256\n",
       "max     817.238292"
      ]
     },
     "execution_count": 50,
     "metadata": {},
     "output_type": "execute_result"
    }
   ],
   "source": [
    "answer_df_reg.describe()"
   ]
  },
  {
   "cell_type": "code",
   "execution_count": 51,
   "metadata": {},
   "outputs": [],
   "source": [
    "# Salvando arquivo 'answer.csv' submetido\n",
    "answer_df_reg.to_csv('answer.csv',index=False)"
   ]
  },
  {
   "cell_type": "code",
   "execution_count": null,
   "metadata": {},
   "outputs": [],
   "source": []
  }
 ],
 "metadata": {
  "kernelspec": {
   "display_name": "Python 3",
   "language": "python",
   "name": "python3"
  },
  "language_info": {
   "codemirror_mode": {
    "name": "ipython",
    "version": 3
   },
   "file_extension": ".py",
   "mimetype": "text/x-python",
   "name": "python",
   "nbconvert_exporter": "python",
   "pygments_lexer": "ipython3",
   "version": "3.7.3"
  }
 },
 "nbformat": 4,
 "nbformat_minor": 2
}
